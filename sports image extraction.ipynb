{
 "cells": [
  {
   "cell_type": "code",
   "execution_count": null,
   "metadata": {},
   "outputs": [],
   "source": [
    "# Extraction of images from pdf\n",
    "# http://www.xpdfreader.com/download.html - \n",
    "# download - XpdfReader:, 64 bit, install in c:\\program files\n",
    "# download - Xpdf  install / extract files to your desired folder, I made in M:\\pdf\n",
    "\n",
    "# M:\\\\pdf\\\\images\\\\ , images is a folder to store extracted images. \n",
    "# vsosports.pdf is a file from which images to be extract."
   ]
  },
  {
   "cell_type": "code",
   "execution_count": 16,
   "metadata": {},
   "outputs": [
    {
     "data": {
      "text/html": [],
      "text/latex": [],
      "text/markdown": [],
      "text/plain": [
       "character(0)"
      ]
     },
     "metadata": {},
     "output_type": "display_data"
    }
   ],
   "source": [
    "try(system(\"M:\\\\pdf\\\\xpdf-tools-win-4.00\\\\bin64\\\\pdfimages  M:\\\\pdf\\\\vsosports.pdf M:\\\\pdf\\\\images\\\\\", \n",
    "           intern = TRUE, ignore.stderr = TRUE))"
   ]
  },
  {
   "cell_type": "code",
   "execution_count": null,
   "metadata": {},
   "outputs": [],
   "source": [
    "# After exicution of above command images are extracted in .pbm format to view them\n",
    "# download Xnview https://www.xnview.com/en/xnview/ "
   ]
  }
 ],
 "metadata": {
  "kernelspec": {
   "display_name": "R",
   "language": "R",
   "name": "ir"
  },
  "language_info": {
   "codemirror_mode": "r",
   "file_extension": ".r",
   "mimetype": "text/x-r-source",
   "name": "R",
   "pygments_lexer": "r",
   "version": "3.5.1"
  }
 },
 "nbformat": 4,
 "nbformat_minor": 2
}
